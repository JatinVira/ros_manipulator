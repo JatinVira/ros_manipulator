{
 "cells": [
  {
   "cell_type": "markdown",
   "metadata": {},
   "source": [
    "# Grasp Bayesian Optimization\n",
    "\n",
    "The goal is to robustify a grasp that has been shown to the robot using bayesian optimization."
   ]
  },
  {
   "cell_type": "code",
   "execution_count": 1,
   "metadata": {},
   "outputs": [
    {
     "name": "stdout",
     "output_type": "stream",
     "text": [
      "[INFO] [WallTime: 1504180219.210028] [12867.310000] STARTING CONTROLLERS\n"
     ]
    }
   ],
   "source": [
    "from bayes_opt import BayesianOptimization\n",
    "from smart_grasping_sandbox.smart_grasper import SmartGrasper\n",
    "from tf.transformations import quaternion_from_euler\n",
    "from math import pi\n",
    "import time\n",
    "import rospy\n",
    "from math import sqrt, pow\n",
    "import random\n",
    "from sys import argv\n",
    "from numpy import var, mean\n",
    "\n",
    "\n",
    "sgs = SmartGrasper()\n",
    "\n",
    "MIN_LIFT_STEPS = 5\n",
    "MAX_BALL_DISTANCE = 0.6\n",
    "\n",
    "REPEAT_GRASP = 10"
   ]
  },
  {
   "cell_type": "markdown",
   "metadata": {},
   "source": [
    "## Creating our function to optimize\n",
    "\n",
    "So we want to optimise the grasp stability function. This function will use the Smart Grasping Sandbox to grasp a ball, shake it and compute the stability of the grasp: the less the distance from the ball to the palm changes, the more stable the grasp."
   ]
  },
  {
   "cell_type": "code",
   "execution_count": 5,
   "metadata": {
    "collapsed": true
   },
   "outputs": [],
   "source": [
    "class GraspQuality(object):\n",
    "        \n",
    "    def __init__(self, sgs):\n",
    "        self.sgs = sgs\n",
    "        self.last_distance = None\n",
    "        self.current_grasp = {}\n",
    "\n",
    "    def check_stable(self, joint_names):\n",
    "        current_min = 1000\n",
    "        positions = []\n",
    "        velocities = []\n",
    "        efforts = []\n",
    "        for k in range(30):\n",
    "            sgs.move_tip(y=0.02)\n",
    "            ball_distance = self.__compute_euclidean_distance()\n",
    "            if k > MIN_LIFT_STEPS and ball_distance < current_min:\n",
    "                current_min = ball_distance\n",
    "            if ball_distance > MAX_BALL_DISTANCE:\n",
    "                break\n",
    "                \n",
    "            time.sleep(0.01)\n",
    "        robustness = (1/(current_min - 0.18))**2\n",
    "        return robustness\n",
    "\n",
    "    def __compute_euclidean_distance(self):\n",
    "        ball_pose = self.sgs.get_object_pose()\n",
    "        hand_pose = self.sgs.get_tip_pose()\n",
    "        dist = sqrt((hand_pose.position.x - ball_pose.position.x)**2 + \\\n",
    "                     (hand_pose.position.y - ball_pose.position.y)**2 + \\\n",
    "                     (hand_pose.position.z - ball_pose.position.z)**2)\n",
    "        return dist\n",
    "    \n",
    "    def run_experiments(self, grasp_distance,\n",
    "                        H1_F1J1, H1_F1J2, H1_F1J3,\n",
    "                        H1_F2J1, H1_F2J2, H1_F2J3,\n",
    "                        H1_F3J1, H1_F3J2, H1_F3J3):\n",
    "        robustness = []\n",
    "        for _ in range(REPEAT_GRASP):\n",
    "            robustness.append(self.experiment(grasp_distance,\n",
    "                                              H1_F1J1, H1_F1J2, H1_F1J3,\n",
    "                                              H1_F2J1, H1_F2J2, H1_F2J3,\n",
    "                                              H1_F3J1, H1_F3J2, H1_F3J3))\n",
    "            \n",
    "        # trying to maximize the robustness average - while minimizing its variance\n",
    "        utility = mean(robustness) / max(0.001,sqrt(var(robustness))) # don't divide by 0\n",
    "            \n",
    "        return utility\n",
    "            \n",
    "    def experiment(self, grasp_distance,\n",
    "                   H1_F1J1, H1_F1J2, H1_F1J3,\n",
    "                   H1_F2J1, H1_F2J2, H1_F2J3,\n",
    "                   H1_F3J1, H1_F3J2, H1_F3J3):\n",
    "        self.sgs.reset_world()\n",
    "        time.sleep(0.1)\n",
    "        self.sgs.reset_world()\n",
    "        time.sleep(0.1)\n",
    "\n",
    "        self.sgs.open_hand()\n",
    "        time.sleep(0.1)\n",
    "        self.sgs.open_hand()\n",
    "        time.sleep(0.1)\n",
    "\n",
    "        ball_pose = self.sgs.get_object_pose()\n",
    "        ball_pose.position.z += 0.5\n",
    "\n",
    "        #setting an absolute orientation (from the top)\n",
    "        quaternion = quaternion_from_euler(-pi/2., 0.0, 0.0)\n",
    "        ball_pose.orientation.x = quaternion[0]\n",
    "        ball_pose.orientation.y = quaternion[1]\n",
    "        ball_pose.orientation.z = quaternion[2]\n",
    "        ball_pose.orientation.w = quaternion[3]\n",
    "\n",
    "        self.sgs.move_tip_absolute(ball_pose)\n",
    "\n",
    "        self.sgs.move_tip(y=grasp_distance)\n",
    "\n",
    "        # close the grasp\n",
    "        self.sgs.check_fingers_collisions(False)\n",
    "        \n",
    "        self.current_grasp[\"H1_F1J1\"] = H1_F1J1\n",
    "        self.current_grasp[\"H1_F1J2\"] = H1_F1J2\n",
    "        self.current_grasp[\"H1_F1J3\"] = H1_F1J3\n",
    "        \n",
    "        self.current_grasp[\"H1_F2J1\"] = H1_F2J1\n",
    "        self.current_grasp[\"H1_F2J2\"] = H1_F2J2\n",
    "        self.current_grasp[\"H1_F2J3\"] = H1_F2J3\n",
    "        \n",
    "        self.current_grasp[\"H1_F3J1\"] = H1_F3J1\n",
    "        self.current_grasp[\"H1_F3J2\"] = H1_F3J2\n",
    "        self.current_grasp[\"H1_F3J3\"] = H1_F3J3\n",
    "        \n",
    "        \n",
    "        self.sgs.send_command(self.current_grasp, duration=1.0)\n",
    "\n",
    "        # lift slowly and check the quality\n",
    "        joint_names = self.current_grasp.keys()\n",
    "\n",
    "        robustness = self.check_stable(joint_names)\n",
    "\n",
    "        rospy.loginfo(\"Grasp quality = \" + str(robustness))\n",
    "\n",
    "        sgs.check_fingers_collisions(True)\n",
    "        \n",
    "        return robustness"
   ]
  },
  {
   "cell_type": "markdown",
   "metadata": {},
   "source": [
    "## Running the Bayesian Optimization\n",
    "\n",
    "And we can now optimize this black box function."
   ]
  },
  {
   "cell_type": "code",
   "execution_count": 6,
   "metadata": {},
   "outputs": [
    {
     "name": "stdout",
     "output_type": "stream",
     "text": [
      "[INFO] [WallTime: 1504180384.379762] [13031.070000] STARTING CONTROLLERS\n"
     ]
    }
   ],
   "source": [
    "sgs = SmartGrasper()\n",
    "grasp_quality = GraspQuality(sgs)\n",
    "\n",
    "bo = BayesianOptimization(grasp_quality.run_experiments,\n",
    "                          {\"grasp_distance\": (-0.165, -0.16),\n",
    "                           \"H1_F1J1\": (-0.2, 0.2),\n",
    "                           \"H1_F1J2\": (0.0, 0.5),\n",
    "                           \"H1_F1J3\": (0.2, 0.6),\n",
    "                           \"H1_F2J1\": (-0.2, 0.2),\n",
    "                           \"H1_F2J2\": (0.0, 0.5),\n",
    "                           \"H1_F2J3\": (0.2, 0.6),\n",
    "                           \"H1_F3J1\": (-0.2, 0.2),\n",
    "                           \"H1_F3J2\": (0.0, 0.5),\n",
    "                           \"H1_F3J3\": (0.2, 0.6)\n",
    "                          })"
   ]
  },
  {
   "cell_type": "code",
   "execution_count": 7,
   "metadata": {},
   "outputs": [
    {
     "name": "stdout",
     "output_type": "stream",
     "text": [
      "\u001b[31mInitialization\u001b[0m\n",
      "\u001b[94m------------------------------------------------------------------------------------------------------------------------------------------------------------\u001b[0m\n",
      " Step |   Time |      Value |   H1_F1J1 |   H1_F1J2 |   H1_F1J3 |   H1_F2J1 |   H1_F2J2 |   H1_F2J3 |   H1_F3J1 |   H1_F3J2 |   H1_F3J3 |   grasp_distance | \n",
      "[INFO] [WallTime: 1504180386.738352] [13033.318000] STARTING CONTROLLERS\n",
      "[INFO] [WallTime: 1504180386.947866] [13033.422000] STARTING CONTROLLERS\n",
      "[INFO] [WallTime: 1504180399.795376] [13046.135000] Grasp quality = 11.360527161\n",
      "[INFO] [WallTime: 1504180400.803948] [13047.141000] STARTING CONTROLLERS\n",
      "[INFO] [WallTime: 1504180401.013203] [13047.247000] STARTING CONTROLLERS\n",
      "[INFO] [WallTime: 1504180413.834020] [13059.926000] Grasp quality = 11.3301113649\n",
      "    1 | 00m28s | \u001b[35m 746.01495\u001b[0m | \u001b[32m   0.0223\u001b[0m | \u001b[32m   0.0028\u001b[0m | \u001b[32m   0.3350\u001b[0m | \u001b[32m  -0.0177\u001b[0m | \u001b[32m   0.1817\u001b[0m | \u001b[32m   0.5527\u001b[0m | \u001b[32m   0.1296\u001b[0m | \u001b[32m   0.3237\u001b[0m | \u001b[32m   0.3247\u001b[0m | \u001b[32m         -0.1622\u001b[0m | \n",
      "\u001b[31mBayesian Optimization\u001b[0m\n",
      "\u001b[94m------------------------------------------------------------------------------------------------------------------------------------------------------------\u001b[0m\n",
      " Step |   Time |      Value |   H1_F1J1 |   H1_F1J2 |   H1_F1J3 |   H1_F2J1 |   H1_F2J2 |   H1_F2J3 |   H1_F3J1 |   H1_F3J2 |   H1_F3J3 |   grasp_distance | \n",
      "[INFO] [WallTime: 1504180421.060900] [13067.115000] STARTING CONTROLLERS\n",
      "[INFO] [WallTime: 1504180421.270110] [13067.221000] STARTING CONTROLLERS\n",
      "[INFO] [WallTime: 1504180434.103532] [13079.919000] Grasp quality = 11.6838141337\n",
      "[INFO] [WallTime: 1504180435.116533] [13080.926000] STARTING CONTROLLERS\n",
      "[INFO] [WallTime: 1504180435.325135] [13081.031000] STARTING CONTROLLERS\n",
      "[INFO] [WallTime: 1504180448.164399] [13093.742000] Grasp quality = 11.7927582576\n",
      "    2 | 00m35s |  215.49186 |    0.0235 |    0.0024 |    0.3358 |   -0.0190 |    0.1804 |    0.5519 |    0.1299 |    0.3252 |    0.3236 |          -0.1622 | \n",
      "[INFO] [WallTime: 1504180449.945942] [13095.505000] STARTING CONTROLLERS\n",
      "[INFO] [WallTime: 1504180450.154511] [13095.610000] STARTING CONTROLLERS\n",
      "[INFO] [WallTime: 1504180463.421428] [13108.747000] Grasp quality = 13.2227681217\n",
      "[INFO] [WallTime: 1504180464.436342] [13109.755000] STARTING CONTROLLERS\n",
      "[INFO] [WallTime: 1504180464.646297] [13109.861000] STARTING CONTROLLERS\n",
      "[INFO] [WallTime: 1504180478.012128] [13123.098000] Grasp quality = 14.6425203273\n",
      "    3 | 00m29s |   19.62687 |   -0.0463 |    0.2396 |    0.3119 |    0.0880 |    0.4517 |    0.5973 |   -0.1170 |    0.0421 |    0.4696 |          -0.1619 | \n"
     ]
    }
   ],
   "source": [
    "bo.maximize(init_points=15, n_iter=10, kappa=4)\n",
    "\n"
   ]
  },
  {
   "cell_type": "code",
   "execution_count": 8,
   "metadata": {},
   "outputs": [],
   "source": [
    "best_grasp = bo.res['max']['max_params']"
   ]
  },
  {
   "cell_type": "code",
   "execution_count": 9,
   "metadata": {},
   "outputs": [
    {
     "name": "stdout",
     "output_type": "stream",
     "text": [
      "[INFO] [WallTime: 1504180544.912030] [13189.813000] STARTING CONTROLLERS\n",
      "[INFO] [WallTime: 1504180545.120841] [13189.919000] STARTING CONTROLLERS\n",
      "[INFO] [WallTime: 1504180558.061862] [13202.735000] Grasp quality = 11.7715838606\n"
     ]
    },
    {
     "data": {
      "text/plain": [
       "11.771583860585748"
      ]
     },
     "execution_count": 9,
     "metadata": {},
     "output_type": "execute_result"
    }
   ],
   "source": [
    "grasp_quality.experiment(best_grasp[\"grasp_distance\"],\n",
    "                         best_grasp[\"H1_F1J1\"], best_grasp[\"H1_F1J2\"], best_grasp[\"H1_F1J3\"],\n",
    "                         best_grasp[\"H1_F2J1\"], best_grasp[\"H1_F2J2\"], best_grasp[\"H1_F2J3\"],\n",
    "                         best_grasp[\"H1_F3J1\"], best_grasp[\"H1_F3J2\"], best_grasp[\"H1_F3J3\"],\n",
    "                        )"
   ]
  }
 ],
 "metadata": {
  "kernelspec": {
   "display_name": "Python 2",
   "language": "python",
   "name": "python2"
  },
  "language_info": {
   "codemirror_mode": {
    "name": "ipython",
    "version": 2
   },
   "file_extension": ".py",
   "mimetype": "text/x-python",
   "name": "python",
   "nbconvert_exporter": "python",
   "pygments_lexer": "ipython2",
   "version": "2.7.6"
  },
  "toc": {
   "nav_menu": {},
   "number_sections": true,
   "sideBar": true,
   "skip_h1_title": false,
   "toc_cell": false,
   "toc_position": {},
   "toc_section_display": "block",
   "toc_window_display": false
  }
 },
 "nbformat": 4,
 "nbformat_minor": 2
}
