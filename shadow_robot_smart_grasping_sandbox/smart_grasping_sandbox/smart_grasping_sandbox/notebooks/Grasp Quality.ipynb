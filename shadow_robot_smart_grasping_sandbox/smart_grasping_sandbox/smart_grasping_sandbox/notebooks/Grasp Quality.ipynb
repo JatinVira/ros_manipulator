{
 "cells": [
  {
   "cell_type": "code",
   "execution_count": 1,
   "metadata": {},
   "outputs": [
    {
     "name": "stderr",
     "output_type": "stream",
     "text": [
      "Using TensorFlow backend.\n"
     ]
    },
    {
     "name": "stdout",
     "output_type": "stream",
     "text": [
      "Couldn't import dot_parser, loading of dot files will not be possible.\n"
     ]
    }
   ],
   "source": [
    "from keras.models import Sequential\n",
    "from keras.layers import Dense\n",
    "from keras.callbacks import TensorBoard\n",
    "from keras.layers import *\n",
    "import numpy\n",
    "\n",
    "from sklearn.model_selection import train_test_split\n",
    "\n",
    "#ignoring the first row (header) \n",
    "# and the first column (unique experiment id, which I'm not using here)\n",
    "dataset = numpy.loadtxt(\"/results/shadow_robot_dataset.csv\", skiprows=1, usecols=range(1,30), delimiter=\",\")"
   ]
  },
  {
   "cell_type": "markdown",
   "metadata": {},
   "source": [
    "# Loading the data\n",
    "\n",
    "Each row of my dataset contains the following:\n",
    "\n",
    "|0 | 1|2|3|4|5|6|7|8|9|10|11|12|13|14|15|16|17|18|19|20|21|22|23|24|25|26|27|28|29|\n",
    "|:-:|:-:|:-:|:-:|:-:|:-:|:-:|:-:|:-:|:-:|:-:|:-:|:-:|:-:|:-:|:-:|:-:|:-:|:-:|:-:|:-:|:-:|:-:|:-:|:-:|:-:|:-:|:-:|:-:|\n",
    "| experiment_number | robustness| H1_F1J2_pos | H1_F1J2_vel | H1_F1J2_effort | H1_F1J3_pos | H1_F1J3_vel | H1_F1J3_effort | H1_F1J1_pos | H1_F1J1_vel | H1_F1J1_effort | H1_F3J1_pos | H1_F3J1_vel | H1_F3J1_effort | H1_F3J2_pos | H1_F3J2_vel | H1_F3J2_effort | H1_F3J3_pos | H1_F3J3_vel | H1_F3J3_effort |  H1_F2J1_pos | H1_F2J1_vel | H1_F2J1_effort | H1_F2J3_pos | H1_F2J3_vel | H1_F2J3_effort | H1_F2J2_pos | H1_F2J2_vel | H1_F2J2_effort | measurement_number|\n",
    "\n",
    "My input vector contains the velocity and effort for each joint. I'm creating the vector `X` containing those below:"
   ]
  },
  {
   "cell_type": "code",
   "execution_count": 3,
   "metadata": {},
   "outputs": [],
   "source": [
    "# Getting the header\n",
    "header = \"\"\n",
    "\n",
    "with open('/results/shadow_robot_dataset.csv', 'r') as f:\n",
    "    header = f.readline()\n",
    "    \n",
    "header = header.strip(\"\\n\").split(',')\n",
    "header = [i.strip(\" \") for i in header]\n",
    "\n",
    "# only use velocity and effort, not position\n",
    "saved_cols = []\n",
    "for index,col in enumerate(header[1:]):\n",
    "    if (\"vel\" in col) or (\"eff\" in col):\n",
    "        saved_cols.append(index)\n",
    "        \n",
    "new_X = []\n",
    "for x in dataset:\n",
    "    new_X.append([x[i] for i in saved_cols])\n",
    "   \n",
    "X = numpy.array(new_X)\n"
   ]
  },
  {
   "cell_type": "markdown",
   "metadata": {},
   "source": [
    "My output vector is the predicted grasp robustness. "
   ]
  },
  {
   "cell_type": "code",
   "execution_count": 5,
   "metadata": {
    "collapsed": true
   },
   "outputs": [],
   "source": [
    "Y = dataset[:,0]"
   ]
  },
  {
   "cell_type": "markdown",
   "metadata": {},
   "source": [
    "We are also splitting the dataset into a training set and a test set. \n",
    "\n",
    "This gives us 4 sets: \n",
    "* `X_train` associated to its `Y_train`\n",
    "* `X_test` associated to its `Y_test`\n",
    "\n",
    "We also discretize the output: 1 is a stable grasp and 0 is unstable. A grasp is considered stable if the robustness value is more than 100."
   ]
  },
  {
   "cell_type": "code",
   "execution_count": 7,
   "metadata": {
    "collapsed": true
   },
   "outputs": [],
   "source": [
    "# fix random seed for reproducibility\n",
    "# and splitting the dataset\n",
    "seed = 7\n",
    "numpy.random.seed(seed)\n",
    "X_train, X_test, Y_train, Y_test = train_test_split(X, Y, test_size=0.20, random_state=seed)\n",
    "\n",
    "# this is a sensible grasp threshold for stability\n",
    "GOOD_GRASP_THRESHOLD = 50\n",
    "\n",
    "# we're also storing the best and worst grasps of the test set to do some sanity checks on them\n",
    "itemindex = numpy.where(Y_test>1.05*GOOD_GRASP_THRESHOLD)\n",
    "best_grasps = X_test[itemindex[0]]\n",
    "itemindex = numpy.where(Y_test<=0.95*GOOD_GRASP_THRESHOLD)\n",
    "bad_grasps = X_test[itemindex[0]]\n",
    "\n",
    "# discretizing the grasp quality for stable or unstable grasps\n",
    "Y_train = numpy.array([int(i>GOOD_GRASP_THRESHOLD) for i in Y_train])\n",
    "Y_train = numpy.reshape(Y_train, (Y_train.shape[0],))\n",
    "\n",
    "Y_test = numpy.array([int(i>GOOD_GRASP_THRESHOLD) for i in Y_test])\n",
    "Y_test = numpy.reshape(Y_test, (Y_test.shape[0],))"
   ]
  },
  {
   "cell_type": "markdown",
   "metadata": {},
   "source": [
    "# Creating the model\n",
    "\n",
    "I'm now creating a model to train. It's a very simple topology. Feel free to play with it and experiment with different model shapes."
   ]
  },
  {
   "cell_type": "code",
   "execution_count": 8,
   "metadata": {
    "collapsed": true
   },
   "outputs": [],
   "source": [
    "# create model\n",
    "model = Sequential()\n",
    "\n",
    "model.add(Dense(20*len(X[0]), use_bias=True, input_dim=len(X[0]), activation='relu'))\n",
    "model.add(Dropout(0.5))\n",
    "\n",
    "model.add(Dense(1, activation='sigmoid'))\n",
    "\n",
    "# Compile model\n",
    "model.compile(loss='binary_crossentropy', optimizer='adam', metrics=['accuracy'])"
   ]
  },
  {
   "cell_type": "markdown",
   "metadata": {},
   "source": [
    "# Training the model\n",
    "\n",
    "The model training should be relatively quick. To speed it up you can use a GPU :)\n",
    "\n",
    "I'm using 80% of the data for training and 20% for validation."
   ]
  },
  {
   "cell_type": "code",
   "execution_count": 9,
   "metadata": {},
   "outputs": [
    {
     "name": "stdout",
     "output_type": "stream",
     "text": [
      "Train on 635289 samples, validate on 158823 samples\n",
      "Epoch 1/50\n",
      "635289/635289 [==============================] - 21s - loss: 1.0522 - acc: 0.4108 - val_loss: 0.4919 - val_acc: 0.6370\n",
      "Epoch 2/50\n",
      "635289/635289 [==============================] - 6s - loss: 0.6931 - acc: 0.4742 - val_loss: 0.3576 - val_acc: 0.6560\n",
      "Epoch 3/50\n",
      "635289/635289 [==============================] - 6s - loss: 0.4839 - acc: 0.5830 - val_loss: 0.3343 - val_acc: 0.6545\n",
      "Epoch 4/50\n",
      "635289/635289 [==============================] - 6s - loss: 0.4019 - acc: 0.6293 - val_loss: 0.3379 - val_acc: 0.6544\n",
      "Epoch 5/50\n",
      "635289/635289 [==============================] - 6s - loss: 0.3755 - acc: 0.6446 - val_loss: 0.3456 - val_acc: 0.6544\n",
      "Epoch 6/50\n",
      "635289/635289 [==============================] - 6s - loss: 0.3702 - acc: 0.6497 - val_loss: 0.3523 - val_acc: 0.6544\n",
      "Epoch 7/50\n",
      "635289/635289 [==============================] - 6s - loss: 0.3698 - acc: 0.6528 - val_loss: 0.3572 - val_acc: 0.7986\n",
      "Epoch 8/50\n",
      "635289/635289 [==============================] - 6s - loss: 0.3732 - acc: 0.8353 - val_loss: 0.3599 - val_acc: 0.9473\n",
      "Epoch 9/50\n",
      "635289/635289 [==============================] - 6s - loss: 0.3729 - acc: 0.9474 - val_loss: 0.3608 - val_acc: 0.9474\n",
      "Epoch 10/50\n",
      "635289/635289 [==============================] - 6s - loss: 0.3735 - acc: 0.9480 - val_loss: 0.3601 - val_acc: 0.9475\n",
      "Epoch 11/50\n",
      "635289/635289 [==============================] - 6s - loss: 0.3723 - acc: 0.9484 - val_loss: 0.3582 - val_acc: 0.9476\n",
      "Epoch 12/50\n",
      "635289/635289 [==============================] - 6s - loss: 0.3697 - acc: 0.9494 - val_loss: 0.3553 - val_acc: 0.9477\n",
      "Epoch 13/50\n",
      "635289/635289 [==============================] - 6s - loss: 0.3667 - acc: 0.9501 - val_loss: 0.3518 - val_acc: 0.9498\n",
      "Epoch 14/50\n",
      "635289/635289 [==============================] - 6s - loss: 0.3641 - acc: 0.9513 - val_loss: 0.3480 - val_acc: 0.9514\n",
      "Epoch 15/50\n",
      "635289/635289 [==============================] - 6s - loss: 0.3599 - acc: 0.9527 - val_loss: 0.3436 - val_acc: 0.9524\n",
      "Epoch 16/50\n",
      "635289/635289 [==============================] - 6s - loss: 0.3559 - acc: 0.9550 - val_loss: 0.3394 - val_acc: 0.9559\n",
      "Epoch 17/50\n",
      "635289/635289 [==============================] - 6s - loss: 0.3532 - acc: 0.9573 - val_loss: 0.3355 - val_acc: 0.9629\n",
      "Epoch 18/50\n",
      "635289/635289 [==============================] - 6s - loss: 0.3500 - acc: 0.9594 - val_loss: 0.3315 - val_acc: 0.9658\n",
      "Epoch 19/50\n",
      "635289/635289 [==============================] - 6s - loss: 0.3474 - acc: 0.9615 - val_loss: 0.3277 - val_acc: 0.9672\n",
      "Epoch 20/50\n",
      "635289/635289 [==============================] - 6s - loss: 0.3439 - acc: 0.9631 - val_loss: 0.3241 - val_acc: 0.9685\n",
      "Epoch 21/50\n",
      "635289/635289 [==============================] - 6s - loss: 0.3409 - acc: 0.9640 - val_loss: 0.3207 - val_acc: 0.9693\n",
      "Epoch 22/50\n",
      "635289/635289 [==============================] - 6s - loss: 0.3382 - acc: 0.9646 - val_loss: 0.3175 - val_acc: 0.9701\n",
      "Epoch 23/50\n",
      "635289/635289 [==============================] - 6s - loss: 0.3362 - acc: 0.9652 - val_loss: 0.3145 - val_acc: 0.9706\n",
      "Epoch 24/50\n",
      "635289/635289 [==============================] - 6s - loss: 0.3338 - acc: 0.9656 - val_loss: 0.3116 - val_acc: 0.9710\n",
      "Epoch 25/50\n",
      "635289/635289 [==============================] - 6s - loss: 0.3312 - acc: 0.9658 - val_loss: 0.3089 - val_acc: 0.9713\n",
      "Epoch 26/50\n",
      "635289/635289 [==============================] - 6s - loss: 0.3293 - acc: 0.9665 - val_loss: 0.3063 - val_acc: 0.9716\n",
      "Epoch 27/50\n",
      "635289/635289 [==============================] - 6s - loss: 0.3276 - acc: 0.9665 - val_loss: 0.3039 - val_acc: 0.9718\n",
      "Epoch 28/50\n",
      "635289/635289 [==============================] - 6s - loss: 0.3254 - acc: 0.9666 - val_loss: 0.3016 - val_acc: 0.9719\n",
      "Epoch 29/50\n",
      "635289/635289 [==============================] - 6s - loss: 0.3225 - acc: 0.9670 - val_loss: 0.2994 - val_acc: 0.9720\n",
      "Epoch 30/50\n",
      "635289/635289 [==============================] - 6s - loss: 0.3213 - acc: 0.9670 - val_loss: 0.2972 - val_acc: 0.9721\n",
      "Epoch 31/50\n",
      "635289/635289 [==============================] - 6s - loss: 0.3190 - acc: 0.9673 - val_loss: 0.2952 - val_acc: 0.9721\n",
      "Epoch 32/50\n",
      "635289/635289 [==============================] - 6s - loss: 0.3176 - acc: 0.9671 - val_loss: 0.2931 - val_acc: 0.9722\n",
      "Epoch 33/50\n",
      "635289/635289 [==============================] - 6s - loss: 0.3150 - acc: 0.9674 - val_loss: 0.2910 - val_acc: 0.9722\n",
      "Epoch 34/50\n",
      "635289/635289 [==============================] - 6s - loss: 0.3128 - acc: 0.9676 - val_loss: 0.2889 - val_acc: 0.9723\n",
      "Epoch 35/50\n",
      "635289/635289 [==============================] - 6s - loss: 0.3101 - acc: 0.9678 - val_loss: 0.2869 - val_acc: 0.9724\n",
      "Epoch 36/50\n",
      "635289/635289 [==============================] - 6s - loss: 0.3084 - acc: 0.9679 - val_loss: 0.2848 - val_acc: 0.9724\n",
      "Epoch 37/50\n",
      "635289/635289 [==============================] - 6s - loss: 0.3062 - acc: 0.9680 - val_loss: 0.2828 - val_acc: 0.9725\n",
      "Epoch 38/50\n",
      "635289/635289 [==============================] - 6s - loss: 0.3049 - acc: 0.9679 - val_loss: 0.2807 - val_acc: 0.9726\n",
      "Epoch 39/50\n",
      "635289/635289 [==============================] - 6s - loss: 0.3023 - acc: 0.9681 - val_loss: 0.2785 - val_acc: 0.9727\n",
      "Epoch 40/50\n",
      "635289/635289 [==============================] - 6s - loss: 0.3000 - acc: 0.9683 - val_loss: 0.2764 - val_acc: 0.9729\n",
      "Epoch 41/50\n",
      "635289/635289 [==============================] - 6s - loss: 0.2977 - acc: 0.9684 - val_loss: 0.2742 - val_acc: 0.9730\n",
      "Epoch 42/50\n",
      "635289/635289 [==============================] - 6s - loss: 0.2952 - acc: 0.9686 - val_loss: 0.2721 - val_acc: 0.9730\n",
      "Epoch 43/50\n",
      "635289/635289 [==============================] - 6s - loss: 0.2933 - acc: 0.9687 - val_loss: 0.2699 - val_acc: 0.9731\n",
      "Epoch 44/50\n",
      "635289/635289 [==============================] - 6s - loss: 0.2907 - acc: 0.9688 - val_loss: 0.2678 - val_acc: 0.9732\n",
      "Epoch 45/50\n",
      "635289/635289 [==============================] - 6s - loss: 0.2891 - acc: 0.9689 - val_loss: 0.2657 - val_acc: 0.9732\n",
      "Epoch 46/50\n",
      "635289/635289 [==============================] - 6s - loss: 0.2863 - acc: 0.9689 - val_loss: 0.2636 - val_acc: 0.9733\n",
      "Epoch 47/50\n",
      "635289/635289 [==============================] - 6s - loss: 0.2843 - acc: 0.9690 - val_loss: 0.2615 - val_acc: 0.9734\n",
      "Epoch 48/50\n",
      "635289/635289 [==============================] - 6s - loss: 0.2820 - acc: 0.9694 - val_loss: 0.2594 - val_acc: 0.9735\n",
      "Epoch 49/50\n",
      "635289/635289 [==============================] - 6s - loss: 0.2798 - acc: 0.9694 - val_loss: 0.2573 - val_acc: 0.9735\n",
      "Epoch 50/50\n",
      "635289/635289 [==============================] - 7s - loss: 0.2777 - acc: 0.9693 - val_loss: 0.2553 - val_acc: 0.9735\n"
     ]
    },
    {
     "data": {
      "text/plain": [
       "<keras.callbacks.History at 0x7fc299540910>"
      ]
     },
     "execution_count": 9,
     "metadata": {},
     "output_type": "execute_result"
    }
   ],
   "source": [
    "model.fit(X_train, Y_train, validation_split=0.20, epochs=50,\n",
    "          batch_size=500000)"
   ]
  },
  {
   "cell_type": "markdown",
   "metadata": {},
   "source": [
    "Now that the model is trained I'm saving it to be able to load it easily later on."
   ]
  },
  {
   "cell_type": "code",
   "execution_count": 10,
   "metadata": {
    "collapsed": true
   },
   "outputs": [],
   "source": [
    "import h5py\n",
    "model.save(\"./model.h5\")"
   ]
  },
  {
   "cell_type": "markdown",
   "metadata": {},
   "source": [
    "# Evaluating the model\n",
    "\n",
    "First let's see how this model performs on the test set - which hasn't been used during the training phase."
   ]
  },
  {
   "cell_type": "code",
   "execution_count": 12,
   "metadata": {},
   "outputs": [
    {
     "name": "stdout",
     "output_type": "stream",
     "text": [
      "197632/198529 [============================>.] - ETA: 0s\n",
      "acc: 97.33%\n"
     ]
    }
   ],
   "source": [
    "scores = model.evaluate(X_test, Y_test)\n",
    "print(\"\\n%s: %.2f%%\" % (model.metrics_names[1], scores[1]*100))"
   ]
  },
  {
   "cell_type": "markdown",
   "metadata": {},
   "source": [
    "Now let's take a quick look at the good grasps we stored earlier. Are they correctly predicted as stable?"
   ]
  },
  {
   "cell_type": "code",
   "execution_count": 20,
   "metadata": {},
   "outputs": [
    {
     "data": {
      "image/png": "[encoded data removed]",
      "text/plain": [
       "<matplotlib.figure.Figure at 0x7fc299540210>"
      ]
     },
     "metadata": {},
     "output_type": "display_data"
    }
   ],
   "source": [
    "predictions = model.predict(best_grasps)\n",
    "\n",
    "%matplotlib inline\n",
    "import matplotlib.pyplot as plt\n",
    "\n",
    "plt.hist(predictions,\n",
    "         color='#77D651',\n",
    "         alpha=0.5,\n",
    "         label='Good Grasps',\n",
    "         bins=np.arange(0.0, 1.0, 0.03))\n",
    "\n",
    "plt.title('Histogram of grasp prediction')\n",
    "plt.ylabel('Number of grasps')\n",
    "plt.xlabel('Grasp quality prediction')\n",
    "plt.legend(loc='upper right')\n",
    "\n",
    "plt.show()"
   ]
  },
  {
   "cell_type": "markdown",
   "metadata": {},
   "source": [
    "Most of the grasps are correctly predicted as stable (the grasp quality prediction is more than 0.5)! Looking good.\n",
    "\n",
    "What about the unstable grasps?"
   ]
  },
  {
   "cell_type": "code",
   "execution_count": 19,
   "metadata": {},
   "outputs": [
    {
     "data": {
      "image/png": "[encoded data removed]",
      "text/plain": [
       "<matplotlib.figure.Figure at 0x7fc265dc6450>"
      ]
     },
     "metadata": {},
     "output_type": "display_data"
    }
   ],
   "source": [
    "predictions_bad_grasp = model.predict(bad_grasps)\n",
    "\n",
    "\n",
    "# Plot a histogram of defender size\n",
    "plt.hist(predictions_bad_grasp,\n",
    "         color='#D66751',\n",
    "         alpha=0.3,\n",
    "         label='Bad Grasps',\n",
    "         bins=np.arange(0.0, 1.0, 0.03))\n",
    "\n",
    "plt.title('Histogram of grasp prediction')\n",
    "plt.ylabel('Number of grasps')\n",
    "plt.xlabel('Grasp quality prediction')\n",
    "plt.legend(loc='upper right')\n",
    "\n",
    "plt.show()"
   ]
  },
  {
   "cell_type": "markdown",
   "metadata": {},
   "source": [
    "Most of the grasps are considered unstable - below 0.5 - with a few bad classification."
   ]
  }
 ],
 "metadata": {
  "kernelspec": {
   "display_name": "Python 2",
   "language": "python",
   "name": "python2"
  },
  "language_info": {
   "codemirror_mode": {
    "name": "ipython",
    "version": 2
   },
   "file_extension": ".py",
   "mimetype": "text/x-python",
   "name": "python",
   "nbconvert_exporter": "python",
   "pygments_lexer": "ipython2",
   "version": "2.7.6"
  },
  "toc": {
   "nav_menu": {},
   "number_sections": true,
   "sideBar": true,
   "skip_h1_title": false,
   "toc_cell": false,
   "toc_position": {},
   "toc_section_display": "block",
   "toc_window_display": false
  }
 },
 "nbformat": 4,
 "nbformat_minor": 2
}
